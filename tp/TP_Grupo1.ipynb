{
  "nbformat": 4,
  "nbformat_minor": 0,
  "metadata": {
    "colab": {
      "provenance": []
    },
    "kernelspec": {
      "name": "python3",
      "display_name": "Python 3"
    },
    "language_info": {
      "name": "python"
    }
  },
  "cells": [
    {
      "cell_type": "code",
      "execution_count": 1,
      "metadata": {
        "colab": {
          "base_uri": "https://localhost:8080/"
        },
        "id": "N1glpuLo1uPd",
        "outputId": "74d3180d-b57b-41d9-ed55-9170c12b051d"
      },
      "outputs": [
        {
          "output_type": "stream",
          "name": "stdout",
          "text": [
            "Collecting python-constraint\n",
            "  Downloading python-constraint-1.4.0.tar.bz2 (18 kB)\n",
            "  Preparing metadata (setup.py) ... \u001b[?25l\u001b[?25hdone\n",
            "Building wheels for collected packages: python-constraint\n",
            "  Building wheel for python-constraint (setup.py) ... \u001b[?25l\u001b[?25hdone\n",
            "  Created wheel for python-constraint: filename=python_constraint-1.4.0-py2.py3-none-any.whl size=24059 sha256=3fd487c909469d486a30a7f08460d3df4c7779c5df2c3784e13a26680751aeaa\n",
            "  Stored in directory: /root/.cache/pip/wheels/2e/f2/2b/cb08b5fe129e4f69b7033061f256e5c551b0aa1160c2872aee\n",
            "Successfully built python-constraint\n",
            "Installing collected packages: python-constraint\n",
            "Successfully installed python-constraint-1.4.0\n"
          ]
        }
      ],
      "source": [
        "!pip install python-constraint"
      ]
    },
    {
      "cell_type": "code",
      "source": [
        "from constraint import Problem\n",
        "import random"
      ],
      "metadata": {
        "id": "6yqz0MCh2D4n"
      },
      "execution_count": 2,
      "outputs": []
    },
    {
      "cell_type": "code",
      "source": [
        "# Crear el problema CSP\n",
        "problem = Problem()"
      ],
      "metadata": {
        "id": "lysaC9wT2LuC"
      },
      "execution_count": 3,
      "outputs": []
    },
    {
      "cell_type": "code",
      "source": [
        "# Definición de aulas, horarios y días\n",
        "aulas = [\"UH45\", \"UA20\", \"UC38\"]\n",
        "horarios = [\"07:00\", \"09:00\", \"11:00\", \"13:00\"]\n",
        "dias = [\"Lunes\", \"Martes\", \"Miércoles\"]"
      ],
      "metadata": {
        "id": "EXGb6sLX2MAy"
      },
      "execution_count": 4,
      "outputs": []
    },
    {
      "cell_type": "code",
      "source": [
        "# Definición de cursos\n",
        "cursos = [\"Introducción a los Algoritmos\", \"Algoritmos\", \"Algoritmos y Estructuras de Datos\", \"Complejidad Algorítmica\"]"
      ],
      "metadata": {
        "id": "XcrCCe752NQy"
      },
      "execution_count": 5,
      "outputs": []
    },
    {
      "cell_type": "code",
      "source": [
        "# Generar capacidad de aulas\n",
        "capacidad_aulas = {\"UH45\": 25, \"UA20\": 30, \"UC38\": 28}"
      ],
      "metadata": {
        "id": "5ry0xtlC2Q0V"
      },
      "execution_count": 6,
      "outputs": []
    },
    {
      "cell_type": "code",
      "source": [
        "# Asignar cantidad de estudiantes por curso de manera aleatoria\n",
        "estudiantes_curso = {curso: random.randint(20, 30) for curso in cursos}\n",
        "estudiantes_totales = sum(estudiantes_curso.values())\n",
        "print(f\"Estudiantes totales: {estudiantes_totales}\")"
      ],
      "metadata": {
        "colab": {
          "base_uri": "https://localhost:8080/"
        },
        "id": "yTeYgH0l2Tpu",
        "outputId": "82150f6d-bfdd-49ad-a41a-f79952fbdb6e"
      },
      "execution_count": 7,
      "outputs": [
        {
          "output_type": "stream",
          "name": "stdout",
          "text": [
            "Estudiantes totales: 95\n"
          ]
        }
      ]
    },
    {
      "cell_type": "code",
      "source": [
        "# Definición del dominio para cada curso (aula, horario, día)\n",
        "for curso in cursos:\n",
        "    problem.addVariable(curso, [(aula, horario, dia) for aula in aulas for horario in horarios for dia in dias])"
      ],
      "metadata": {
        "id": "fGlt4x982WMs"
      },
      "execution_count": 8,
      "outputs": []
    },
    {
      "cell_type": "code",
      "source": [
        "# Restricción: Un curso no puede exceder la capacidad del aula asignada\n",
        "def verificar_capacidad(asignacion, curso):\n",
        "    aula, horario, dia = asignacion\n",
        "    return estudiantes_curso[curso] <= capacidad_aulas[aula]\n",
        "\n",
        "for curso in cursos:\n",
        "    problem.addConstraint(lambda asignacion, curso=curso: verificar_capacidad(asignacion, curso), [curso])"
      ],
      "metadata": {
        "id": "oxKQnFGN2WkN"
      },
      "execution_count": 9,
      "outputs": []
    },
    {
      "cell_type": "code",
      "source": [
        "# Restricción: Un aula no puede ser asignada a más de un curso en el mismo horario y día\n",
        "def restriccion_aulas_distintas(asignacion1, asignacion2):\n",
        "    aula1, horario1, dia1 = asignacion1\n",
        "    aula2, horario2, dia2 = asignacion2\n",
        "    return not (aula1 == aula2 and horario1 == horario2 and dia1 == dia2)\n",
        "\n",
        "for i, curso1 in enumerate(cursos):\n",
        "    for curso2 in cursos[i + 1:]:\n",
        "        problem.addConstraint(restriccion_aulas_distintas, (curso1, curso2))"
      ],
      "metadata": {
        "id": "UWWHdNNx2a4P"
      },
      "execution_count": 10,
      "outputs": []
    },
    {
      "cell_type": "code",
      "source": [
        "# Buscar todas las soluciones posibles\n",
        "soluciones = problem.getSolutions()\n",
        "\n",
        "mejor_solucion = None\n",
        "max_aulas_diferentes = 0\n",
        "\n",
        "for solucion in soluciones:\n",
        "    aulas_utilizadas = {asignacion[0] for asignacion in solucion.values()}\n",
        "    num_aulas = len(aulas_utilizadas)\n",
        "\n",
        "    if num_aulas > max_aulas_diferentes:\n",
        "        max_aulas_diferentes = num_aulas\n",
        "        mejor_solucion = solucion"
      ],
      "metadata": {
        "id": "hvPamc2F2f_n"
      },
      "execution_count": 11,
      "outputs": []
    },
    {
      "cell_type": "code",
      "source": [
        "if mejor_solucion:\n",
        "    print(f\"Mejor solución encontrada con {max_aulas_diferentes} aulas diferentes:\")\n",
        "    for curso, asignacion in mejor_solucion.items():\n",
        "        print(f\"{curso}: {asignacion}\")\n",
        "else:\n",
        "    print(\"No se encontraron soluciones válidas.\")"
      ],
      "metadata": {
        "colab": {
          "base_uri": "https://localhost:8080/"
        },
        "id": "m25nMUG82gZ4",
        "outputId": "e597f489-f9ac-4c04-f50c-15d30faade06"
      },
      "execution_count": 12,
      "outputs": [
        {
          "output_type": "stream",
          "name": "stdout",
          "text": [
            "Mejor solución encontrada con 3 aulas diferentes:\n",
            "Algoritmos y Estructuras de Datos: ('UC38', '13:00', 'Miércoles')\n",
            "Algoritmos: ('UC38', '13:00', 'Martes')\n",
            "Complejidad Algorítmica: ('UA20', '13:00', 'Miércoles')\n",
            "Introducción a los Algoritmos: ('UH45', '13:00', 'Miércoles')\n"
          ]
        }
      ]
    }
  ]
}